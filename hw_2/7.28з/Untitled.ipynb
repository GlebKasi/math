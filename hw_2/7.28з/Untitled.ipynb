{
 "cells": [
  {
   "cell_type": "markdown",
   "id": "04f4eac5-1e83-46eb-9e37-7a7cbdf38434",
   "metadata": {},
   "source": [
    "Касьянов Глеб"
   ]
  },
  {
   "cell_type": "markdown",
   "id": "8210d6de-00b2-48a2-ba6a-ffab3b41dd29",
   "metadata": {},
   "source": [
    "$$u_{t}=u_{xx}+f$$\n",
    "$$\\cfrac{u_{m}^{n+1} - u_{m}^{n}}{dt}=\\cfrac{u_{m+1}^{n+1}-2*u_{m}^{n+1}+u_{m-1}^{n+1}}{2*dx^{2}}+\\cfrac{u_{m+1}^{n}-2*u_{m}^{n}+u_{m-1}^{n}}{2*dx^{2}}+f_{m}^{n+1/2}$$"
   ]
  },
  {
   "cell_type": "markdown",
   "id": "491723d9-e6c2-4140-bacb-e46055ec1157",
   "metadata": {},
   "source": [
    "разложив схему в ряд тейлора и сделав замену\n",
    "$$u_{t}=u_{xx}+f$$\n",
    "$$u_{tt}=u_{xxt}+f_{t}$$"
   ]
  },
  {
   "cell_type": "markdown",
   "id": "4937d4d4-14c2-4f10-8df4-96cf7cb67322",
   "metadata": {},
   "source": [
    "$$0=-\\cfrac{u_{ttt}*dt^{2}}{6}+\\cfrac{u_{xxxx}*dx^{2}}{12}+\\cfrac{u_{xxtt}*dt^{2}}{4}-\\cfrac{u_{tttt}*dt^{3}}{24}+\\cfrac{u_{xxxxt}*dx^{2}*dt}{24}+\\cfrac{u_{xxttt}*dt^{3}}{12}+\\cfrac{f_{tt}*dt^{2}}{8}+\\cfrac{f_{ttt}*dt^{3}}{48}$$"
   ]
  },
  {
   "cell_type": "markdown",
   "id": "5ad8e571-c138-434e-aba0-abba36add632",
   "metadata": {},
   "source": [
    "Схема сходится $O(x^{2}+t^{2})$"
   ]
  }
 ],
 "metadata": {
  "kernelspec": {
   "display_name": "Python 3 (ipykernel)",
   "language": "python",
   "name": "python3"
  },
  "language_info": {
   "codemirror_mode": {
    "name": "ipython",
    "version": 3
   },
   "file_extension": ".py",
   "mimetype": "text/x-python",
   "name": "python",
   "nbconvert_exporter": "python",
   "pygments_lexer": "ipython3",
   "version": "3.10.2"
  }
 },
 "nbformat": 4,
 "nbformat_minor": 5
}
