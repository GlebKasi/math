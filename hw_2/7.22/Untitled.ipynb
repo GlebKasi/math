{
 "cells": [
  {
   "cell_type": "markdown",
   "id": "d7170517-a0ab-4c89-bad2-7be13b3ee084",
   "metadata": {},
   "source": [
    "Касьянов Глеб"
   ]
  },
  {
   "cell_type": "markdown",
   "id": "a7c779c1-0cec-4243-9222-c9b70c2d07b4",
   "metadata": {},
   "source": [
    "схема\n",
    "$$\\cfrac{f_{k}^{n+1} - f_{k}^{n}}{dt} = (1-\\theta)\\cfrac{f_{k-1}^{n+1} - 2f_{k}^{n+1}+f_{k+1}^{n+1}}{dx^{2}}+\\theta\\cfrac{f_{k-1}^{n} - 2f_{k}^{n}+f_{k+1}^{n}}{dx^{2}}$$"
   ]
  },
  {
   "cell_type": "markdown",
   "id": "1083f0f0-feda-4a87-9e56-0ef746cfce91",
   "metadata": {},
   "source": [
    "Схема приближает уравнение $f'_{t} = f''_{xx}$"
   ]
  },
  {
   "cell_type": "markdown",
   "id": "d82566c0-ac0a-4d76-8194-3ca00d962d49",
   "metadata": {},
   "source": [
    "Исследуем устойчивость. Подставим\n",
    "$$f_{k}^{n} = \\lambda^{n}*e^{i*a*k}$$"
   ]
  },
  {
   "cell_type": "markdown",
   "id": "e82aafc5-a307-4d29-8ea2-5fc059f24802",
   "metadata": {},
   "source": [
    "выразим $\\lambda$\n",
    "$$\\lambda = \\cfrac{2*\\theta*d*(cos(a)-1)+1}{2d*(\\theta-1)(cos(a)-1)+1}$$\n",
    "где $d = dt/dx^{2}$"
   ]
  },
  {
   "cell_type": "markdown",
   "id": "67118336-fb1d-4fb4-a471-eda7eaba5123",
   "metadata": {},
   "source": [
    "$$\\lambda(cos(a)=1) = 1$$\n",
    "$$\\lambda(cos(a)=-1) = \\cfrac{4*\\theta*d - 1}{4*\\theta*d - 4*d-1}$$"
   ]
  },
  {
   "cell_type": "markdown",
   "id": "73b498f5-8a49-49be-a333-8d3b8dee060f",
   "metadata": {},
   "source": [
    "изучив производную получается что функция монотонна и поэтому\n",
    "знаменатель в пределах от cos(a)=-1 до cos(a)=1 не должно зануляться\n",
    "$$-2<\\cfrac{1}{2d(\\theta - 1)}<0$$\n",
    "$$|\\cfrac{4*\\theta*d - 1}{4*\\theta*d-4*d-1}|<1$$"
   ]
  },
  {
   "cell_type": "markdown",
   "id": "9ef0900c-e45c-4708-b1f8-76aba4679c8c",
   "metadata": {},
   "source": [
    "у данной системы неравенств нет решения поэтому схема не устойчива"
   ]
  }
 ],
 "metadata": {
  "kernelspec": {
   "display_name": "Python 3 (ipykernel)",
   "language": "python",
   "name": "python3"
  },
  "language_info": {
   "codemirror_mode": {
    "name": "ipython",
    "version": 3
   },
   "file_extension": ".py",
   "mimetype": "text/x-python",
   "name": "python",
   "nbconvert_exporter": "python",
   "pygments_lexer": "ipython3",
   "version": "3.10.2"
  }
 },
 "nbformat": 4,
 "nbformat_minor": 5
}
