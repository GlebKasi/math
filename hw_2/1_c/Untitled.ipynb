{
 "cells": [
  {
   "cell_type": "markdown",
   "id": "e86c4688-a02a-4336-8f92-88330924c41b",
   "metadata": {},
   "source": [
    "Касьянов Глеб"
   ]
  },
  {
   "cell_type": "markdown",
   "id": "ce4ee5a7-1679-4cb8-a1ee-18fbb29da18a",
   "metadata": {},
   "source": [
    "c1 это коэффициент c из условия задачи в $f'_{t} + c1 * f'_{x}=0$"
   ]
  },
  {
   "cell_type": "markdown",
   "id": "5bea9fb9-b56b-4ec2-9832-98f077b645d9",
   "metadata": {},
   "source": [
    "Составим схему с неизвестными коэффициентами\n",
    "$$a*f_{k}^{n} + b*f_{k-1}^{n+1} + c*f_{k}^{n+1} + d*f_{k+1}^{n+1} = 0$$\n"
   ]
  },
  {
   "cell_type": "markdown",
   "id": "0c2a9465-3995-4d14-be7e-397e406c80b6",
   "metadata": {},
   "source": [
    "разложив схему в ряд тейлора и сделаем замену\n",
    "$$f'_{t} = -c1 * f'_{x}$$\n",
    "$$f'_{tt} = c1^2 * f'_{xx}$$\n",
    "$$f'_{ttt} = -c1^3 * f'_{xxx}$$"
   ]
  },
  {
   "cell_type": "markdown",
   "id": "b68afd3b-5731-441c-91e6-d74f60bdfe69",
   "metadata": {},
   "source": [
    "и занулим в ряде коэффициенты при первых 3-х коэффициентов\n",
    "$$a+b+c+d=0$$\n",
    "$$c1*(b+c+d)*dt+(b-d)*dx=0$$\n",
    "$$c1^{2}*(b+c+d)*dt^{2}/2 + c1*(b-d)*dx*dt+(b+d)*dx^{2}/2=0$$\n",
    "$$c1^{3}*(b+c+d)*dt^{3}/6 + c1^{2}*(b-d)*dx*dt^{2}/2 + c1*(b+d)*dx^{2}*dt/2 + (b-d)*dx^{3}/6 = 1$$"
   ]
  },
  {
   "cell_type": "markdown",
   "id": "4d8b3240-7b30-4042-b8c8-2dc065eeccc2",
   "metadata": {},
   "source": [
    "Получил схему вида\n",
    "$$\\cfrac{f_{k}^{n+1} - f_{k}^{n}}{dt} + c1 * \\cfrac{f_{k+1}^{n+1} - f_{k-1}^{n+1}}{2dx}+\\cfrac{c1^{2}}{2}*(f_{k-1}^{n+1} - 2*f_{k}^{n+1} + 2*f_{k+1}^{n+1})*\\cfrac{dt}{dx^{2}} = 0$$"
   ]
  },
  {
   "cell_type": "markdown",
   "id": "0f6529b0-4b8b-4d03-bc8f-577384d413b5",
   "metadata": {},
   "source": [
    "Порядок апроксимации $O(x^{2}+t)$"
   ]
  },
  {
   "cell_type": "markdown",
   "id": "491c5b82-a5b1-4796-baa9-6fad622421f7",
   "metadata": {},
   "source": [
    "Исследуем устойчивость. Подставим\n",
    "$$f_{k}^{n} = \\lambda^{n}*e^{i*a*k}$$"
   ]
  },
  {
   "cell_type": "markdown",
   "id": "9f0b3644-a8eb-45b8-bd0c-73b0f4a57c7a",
   "metadata": {},
   "source": [
    "И выразим $\\lambda$\n",
    "$$\\lambda = \\cfrac{1}{cos(a)*d^{2}+sin(a)*d*i - d^{2} +1}$$\n",
    "где $d = c1*\\cfrac{dt}{dx}$"
   ]
  },
  {
   "cell_type": "markdown",
   "id": "9dc55ea5-56c1-4e6b-a851-289a0593c59e",
   "metadata": {},
   "source": [
    "при $|d|>=1$, для любого $a$ $|\\lambda| <= 1$. Т.е. схема устойчива при $|d|>=1$ условно устойчива"
   ]
  },
  {
   "cell_type": "code",
   "execution_count": null,
   "id": "ea70dfd1-c526-463d-9812-a7aa32fe8473",
   "metadata": {},
   "outputs": [],
   "source": []
  }
 ],
 "metadata": {
  "kernelspec": {
   "display_name": "Python 3 (ipykernel)",
   "language": "python",
   "name": "python3"
  },
  "language_info": {
   "codemirror_mode": {
    "name": "ipython",
    "version": 3
   },
   "file_extension": ".py",
   "mimetype": "text/x-python",
   "name": "python",
   "nbconvert_exporter": "python",
   "pygments_lexer": "ipython3",
   "version": "3.10.2"
  }
 },
 "nbformat": 4,
 "nbformat_minor": 5
}
