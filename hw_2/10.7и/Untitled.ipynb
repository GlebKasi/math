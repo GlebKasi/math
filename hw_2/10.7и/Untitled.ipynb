{
 "cells": [
  {
   "cell_type": "markdown",
   "id": "aa39254c-52f1-4bbf-a587-8affae47d2dd",
   "metadata": {},
   "source": [
    "|$\\cfrac{1}{3}$|$\\cfrac{1}{3}$|||\n",
    "|:---:|:---:|:---:|:---:|\n",
    "|1|0|1||\n",
    "|1|$\\cfrac{3}{4}$|$\\cfrac{-1}{12}$|$\\cfrac{1}{3}$|\n",
    "||$\\cfrac{3}{4}$|$\\cfrac{-1}{12}$|$\\cfrac{1}{3}$|"
   ]
  },
  {
   "cell_type": "code",
   "execution_count": null,
   "id": "c69dd6cc-e394-4863-8bd2-a3ffb7f18f2f",
   "metadata": {},
   "outputs": [],
   "source": []
  }
 ],
 "metadata": {
  "kernelspec": {
   "display_name": "Python 3 (ipykernel)",
   "language": "python",
   "name": "python3"
  },
  "language_info": {
   "codemirror_mode": {
    "name": "ipython",
    "version": 3
   },
   "file_extension": ".py",
   "mimetype": "text/x-python",
   "name": "python",
   "nbconvert_exporter": "python",
   "pygments_lexer": "ipython3",
   "version": "3.10.2"
  }
 },
 "nbformat": 4,
 "nbformat_minor": 5
}
